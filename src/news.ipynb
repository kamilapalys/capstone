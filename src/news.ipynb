{
 "cells": [
  {
   "cell_type": "code",
   "execution_count": 21,
   "metadata": {},
   "outputs": [],
   "source": [
    "import nltk\n",
    "from nltk.corpus import stopwords\n",
    "import string\n",
    "from string import punctuation\n",
    "import os\n",
    "from os import listdir\n",
    "from collections import Counter"
   ]
  },
  {
   "cell_type": "code",
   "execution_count": 1,
   "metadata": {},
   "outputs": [],
   "source": [
    "def text_to_tokens(filename):\n",
    " '''Opens the input text file and\n",
    " returns a list of all of its words.'''\n",
    " file = open(filename, 'r')\n",
    " text = file.read()\n",
    " file.close()\n",
    " tokens = text.split()\n",
    " return tokens"
   ]
  },
  {
   "cell_type": "code",
   "execution_count": 16,
   "metadata": {},
   "outputs": [
    {
     "name": "stdout",
     "output_type": "stream",
     "text": [
      "/Users/kamilapalys/Desktop/school/data450/capstone\n"
     ]
    }
   ],
   "source": [
    "# go up one level of the directory to be able to get into the data folder\n",
    "cd .."
   ]
  },
  {
   "cell_type": "code",
   "execution_count": 17,
   "metadata": {},
   "outputs": [
    {
     "data": {
      "text/plain": [
       "'/Users/kamilapalys/Desktop/school/data450/capstone'"
      ]
     },
     "execution_count": 17,
     "metadata": {},
     "output_type": "execute_result"
    }
   ],
   "source": [
    "pwd"
   ]
  },
  {
   "cell_type": "code",
   "execution_count": 19,
   "metadata": {},
   "outputs": [
    {
     "data": {
      "text/plain": [
       "1141"
      ]
     },
     "execution_count": 19,
     "metadata": {},
     "output_type": "execute_result"
    }
   ],
   "source": [
    "# example of using the function\n",
    "\n",
    "filename = 'data/text/cnn_trump.txt'\n",
    "text = text_to_tokens(filename)\n",
    "len(text)"
   ]
  },
  {
   "cell_type": "code",
   "execution_count": 22,
   "metadata": {},
   "outputs": [
    {
     "name": "stdout",
     "output_type": "stream",
     "text": [
      "data/text/nyp_affirmative.txt\n",
      "data/text/bbc_tanks.txt\n",
      "data/text/cnn_hamas.txt\n",
      "data/text/wsj_trump.txt\n",
      "data/text/wp_affirmative.txt\n",
      "data/text/bbc_balloon.txt\n",
      "data/text/wsj_affirmative.txt\n",
      "data/text/nyt_trump.txt\n",
      "data/text/wp_balloon.txt\n",
      "data/text/cnn_pentagon.txt\n",
      "data/text/cnn_tanks.txt\n",
      "data/text/bbc_hamas.txt\n",
      "data/text/nbc_tanks.txt\n",
      "data/text/nyp_hamas.txt\n",
      "data/text/.DS_Store\n",
      "data/text/cnn_balloon.txt\n",
      "data/text/fox_pentagon.txt\n",
      "data/text/wp_biden.txt\n",
      "data/text/nyp_tanks.txt\n",
      "data/text/nbc_hamas.txt\n",
      "data/text/abc_balloon.txt\n",
      "data/text/nyt_pentagon.txt\n",
      "data/text/fox_tanks.txt\n",
      "data/text/wp_trump.txt\n",
      "data/text/fox_hamas.txt\n",
      "data/text/nyp_balloon.txt\n",
      "data/text/abc_hamas.txt\n",
      "data/text/abc_santos.txt\n",
      "data/text/nyp_santos.txt\n",
      "data/text/fox_affirmative.txt\n",
      "data/text/wsj_biden.txt\n",
      "data/text/nyt_biden.txt\n",
      "data/text/abc_tanks.txt\n",
      "data/text/nbc_affirmative.txt\n",
      "data/text/nyt_hamas.txt\n",
      "data/text/wsj_tanks.txt\n",
      "data/text/wp_pentagon.txt\n",
      "data/text/nyp_pentagon.txt\n",
      "data/text/bbc_trump.txt\n",
      "data/text/nyt_affirmative.txt\n",
      "data/text/cnn_trump.txt\n",
      "data/text/abc_biden.txt\n",
      "data/text/cnn_affirmative.txt\n",
      "data/text/bbc_affirmative.txt\n",
      "data/text/wsj_hamas.txt\n",
      "data/text/wsj_pentagon.txt\n",
      "data/text/nyt_tanks.txt\n",
      "data/text/nbc_balloon.txt\n",
      "data/text/fox_biden.txt\n",
      "data/text/wsj_balloon.txt\n",
      "data/text/nbc_pentagon.txt\n",
      "data/text/bbc_santos.txt\n",
      "data/text/wsj_santos.txt\n",
      "data/text/nbc_trump.txt\n",
      "data/text/nyp_trump.txt\n",
      "data/text/cnn_santos.txt\n",
      "data/text/abc_pentagon.txt\n",
      "data/text/fox_santos.txt\n",
      "data/text/wp_hamas.txt\n",
      "data/text/fox_trump.txt\n",
      "data/text/nbc_biden.txt\n",
      "data/text/nyp_biden.txt\n",
      "data/text/nyt_balloon.txt\n",
      "data/text/wp_tanks.txt\n",
      "data/text/wp_santos.txt\n",
      "data/text/bbc_biden.txt\n",
      "data/text/cnn_biden.txt\n",
      "data/text/abc_trump.txt\n",
      "data/text/nyt_santos.txt\n",
      "data/text/bbc_pentagon.txt\n",
      "data/text/abc_affirmative.txt\n",
      "data/text/nbc_santos.txt\n",
      "data/text/fox_balloon.txt\n"
     ]
    }
   ],
   "source": [
    "# how all the text files will be looped through\n",
    "\n",
    "directory = 'data/text/'\n",
    "# Display the contents of the data/ directory\n",
    "for filename in os.listdir(directory):\n",
    "    print(os.path.join(directory, filename))"
   ]
  },
  {
   "cell_type": "code",
   "execution_count": null,
   "metadata": {},
   "outputs": [],
   "source": []
  }
 ],
 "metadata": {
  "kernelspec": {
   "display_name": "Python 3",
   "language": "python",
   "name": "python3"
  },
  "language_info": {
   "codemirror_mode": {
    "name": "ipython",
    "version": 3
   },
   "file_extension": ".py",
   "mimetype": "text/x-python",
   "name": "python",
   "nbconvert_exporter": "python",
   "pygments_lexer": "ipython3",
   "version": "3.9.18"
  }
 },
 "nbformat": 4,
 "nbformat_minor": 2
}
