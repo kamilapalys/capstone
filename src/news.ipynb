{
 "cells": [
  {
   "cell_type": "code",
   "execution_count": 21,
   "metadata": {},
   "outputs": [],
   "source": [
    "import nltk\n",
    "from nltk.corpus import stopwords\n",
    "import string\n",
    "from string import punctuation\n",
    "import os\n",
    "from os import listdir\n",
    "from collections import Counter"
   ]
  },
  {
   "cell_type": "code",
   "execution_count": 1,
   "metadata": {},
   "outputs": [],
   "source": [
    "def text_to_tokens(filename):\n",
    " '''Opens the input text file and\n",
    " returns a list of all of its words.'''\n",
    " file = open(filename, 'r')\n",
    " text = file.read()\n",
    " file.close()\n",
    " tokens = text.split()\n",
    " return tokens"
   ]
  },
  {
   "cell_type": "code",
   "execution_count": 16,
   "metadata": {},
   "outputs": [
    {
     "name": "stdout",
     "output_type": "stream",
     "text": [
      "/Users/kamilapalys/Desktop/school/data450/capstone\n"
     ]
    }
   ],
   "source": [
    "# go up one level of the directory to be able to get into the data folder\n",
    "cd .."
   ]
  },
  {
   "cell_type": "code",
   "execution_count": 17,
   "metadata": {},
   "outputs": [
    {
     "data": {
      "text/plain": [
       "'/Users/kamilapalys/Desktop/school/data450/capstone'"
      ]
     },
     "execution_count": 17,
     "metadata": {},
     "output_type": "execute_result"
    }
   ],
   "source": [
    "# Ensure we're in the correct directory to be able to navigate to the data folder\n",
    "pwd"
   ]
  },
  {
   "cell_type": "code",
   "execution_count": 24,
   "metadata": {},
   "outputs": [
    {
     "data": {
      "text/plain": [
       "['Donald',\n",
       " 'Trump',\n",
       " 'faces',\n",
       " 'more',\n",
       " 'than',\n",
       " '30',\n",
       " 'counts',\n",
       " 'related',\n",
       " 'to',\n",
       " 'business',\n",
       " 'fraud',\n",
       " 'in',\n",
       " 'an',\n",
       " 'indictment',\n",
       " 'from']"
      ]
     },
     "execution_count": 24,
     "metadata": {},
     "output_type": "execute_result"
    }
   ],
   "source": [
    "# example of using the function\n",
    "\n",
    "filepath = 'data/text/cnn_trump.txt'\n",
    "text = text_to_tokens(filepath)\n",
    "len(text)\n",
    "text[:15]"
   ]
  },
  {
   "cell_type": "code",
   "execution_count": 32,
   "metadata": {},
   "outputs": [
    {
     "name": "stdout",
     "output_type": "stream",
     "text": [
      "['i', 'me', 'my', 'myself', 'we', 'our', 'ours', 'ourselves', 'you', \"you're\", \"you've\", \"you'll\", \"you'd\", 'your', 'yours', 'yourself', 'yourselves', 'he', 'him', 'his', 'himself', 'she', \"she's\", 'her', 'hers', 'herself', 'it', \"it's\", 'its', 'itself', 'they', 'them', 'their', 'theirs', 'themselves', 'what', 'which', 'who', 'whom', 'this', 'that', \"that'll\", 'these', 'those', 'am', 'is', 'are', 'was', 'were', 'be', 'been', 'being', 'have', 'has', 'had', 'having', 'do', 'does', 'did', 'doing', 'a', 'an', 'the', 'and', 'but', 'if', 'or', 'because', 'as', 'until', 'while', 'of', 'at', 'by', 'for', 'with', 'about', 'against', 'between', 'into', 'through', 'during', 'before', 'after', 'above', 'below', 'to', 'from', 'up', 'down', 'in', 'out', 'on', 'off', 'over', 'under', 'again', 'further', 'then', 'once', 'here', 'there', 'when', 'where', 'why', 'how', 'all', 'any', 'both', 'each', 'few', 'more', 'most', 'other', 'some', 'such', 'no', 'nor', 'not', 'only', 'own', 'same', 'so', 'than', 'too', 'very', 's', 't', 'can', 'will', 'just', 'don', \"don't\", 'should', \"should've\", 'now', 'd', 'll', 'm', 'o', 're', 've', 'y', 'ain', 'aren', \"aren't\", 'couldn', \"couldn't\", 'didn', \"didn't\", 'doesn', \"doesn't\", 'hadn', \"hadn't\", 'hasn', \"hasn't\", 'haven', \"haven't\", 'isn', \"isn't\", 'ma', 'mightn', \"mightn't\", 'mustn', \"mustn't\", 'needn', \"needn't\", 'shan', \"shan't\", 'shouldn', \"shouldn't\", 'wasn', \"wasn't\", 'weren', \"weren't\", 'won', \"won't\", 'wouldn', \"wouldn't\"]\n"
     ]
    }
   ],
   "source": [
    "# playing around with stopwords, going through example of removing them\n",
    "\n",
    "stopwords_list = stopwords.words('english')\n",
    "print(stopwords_list)\n",
    "\n",
    "token_ex = ['was', 'she', 'ever', 'going',\n",
    "             'to', 'realize', 'they', 'were', 'laughing', 'at', 'her']\n",
    "\n",
    "new = []\n",
    "\n",
    "for token in token_ex:\n",
    "    if token not in stopwords_list:\n",
    "        new.append(token)\n",
    "\n",
    "#print(new)"
   ]
  },
  {
   "cell_type": "code",
   "execution_count": null,
   "metadata": {},
   "outputs": [],
   "source": [
    "def clean_tokens(tokens):\n",
    "    '''Takes in a list of tokens and cleans them by converting\n",
    "    to lowercase, removing punctuation, removing stopwords, \n",
    "    and stemming. Returns the new list of tokens.'''\n",
    "    new_tokens = []\n",
    "    for token in tokens:\n",
    "        token.lower()\n",
    "        if token # is a stopword: pass, else: if not in new token list: append\n"
   ]
  },
  {
   "cell_type": "code",
   "execution_count": 23,
   "metadata": {},
   "outputs": [
    {
     "name": "stdout",
     "output_type": "stream",
     "text": [
      "data/text/nyp_affirmative.txt\n",
      "data/text/bbc_tanks.txt\n",
      "data/text/cnn_hamas.txt\n",
      "data/text/wsj_trump.txt\n",
      "data/text/wp_affirmative.txt\n",
      "data/text/bbc_balloon.txt\n",
      "data/text/wsj_affirmative.txt\n",
      "data/text/nyt_trump.txt\n",
      "data/text/wp_balloon.txt\n",
      "data/text/cnn_pentagon.txt\n",
      "data/text/cnn_tanks.txt\n",
      "data/text/bbc_hamas.txt\n",
      "data/text/nbc_tanks.txt\n",
      "data/text/nyp_hamas.txt\n",
      "data/text/.DS_Store\n",
      "data/text/cnn_balloon.txt\n",
      "data/text/fox_pentagon.txt\n",
      "data/text/wp_biden.txt\n",
      "data/text/nyp_tanks.txt\n",
      "data/text/nbc_hamas.txt\n",
      "data/text/abc_balloon.txt\n",
      "data/text/nyt_pentagon.txt\n",
      "data/text/fox_tanks.txt\n",
      "data/text/wp_trump.txt\n",
      "data/text/fox_hamas.txt\n",
      "data/text/nyp_balloon.txt\n",
      "data/text/abc_hamas.txt\n",
      "data/text/abc_santos.txt\n",
      "data/text/nyp_santos.txt\n",
      "data/text/fox_affirmative.txt\n",
      "data/text/wsj_biden.txt\n",
      "data/text/nyt_biden.txt\n",
      "data/text/abc_tanks.txt\n",
      "data/text/nbc_affirmative.txt\n",
      "data/text/nyt_hamas.txt\n",
      "data/text/wsj_tanks.txt\n",
      "data/text/wp_pentagon.txt\n",
      "data/text/nyp_pentagon.txt\n",
      "data/text/bbc_trump.txt\n",
      "data/text/nyt_affirmative.txt\n",
      "data/text/cnn_trump.txt\n",
      "data/text/abc_biden.txt\n",
      "data/text/cnn_affirmative.txt\n",
      "data/text/bbc_affirmative.txt\n",
      "data/text/wsj_hamas.txt\n",
      "data/text/wsj_pentagon.txt\n",
      "data/text/nyt_tanks.txt\n",
      "data/text/nbc_balloon.txt\n",
      "data/text/fox_biden.txt\n",
      "data/text/wsj_balloon.txt\n",
      "data/text/nbc_pentagon.txt\n",
      "data/text/bbc_santos.txt\n",
      "data/text/wsj_santos.txt\n",
      "data/text/nbc_trump.txt\n",
      "data/text/nyp_trump.txt\n",
      "data/text/cnn_santos.txt\n",
      "data/text/abc_pentagon.txt\n",
      "data/text/fox_santos.txt\n",
      "data/text/wp_hamas.txt\n",
      "data/text/fox_trump.txt\n",
      "data/text/nbc_biden.txt\n",
      "data/text/nyp_biden.txt\n",
      "data/text/nyt_balloon.txt\n",
      "data/text/wp_tanks.txt\n",
      "data/text/wp_santos.txt\n",
      "data/text/bbc_biden.txt\n",
      "data/text/cnn_biden.txt\n",
      "data/text/abc_trump.txt\n",
      "data/text/nyt_santos.txt\n",
      "data/text/bbc_pentagon.txt\n",
      "data/text/abc_affirmative.txt\n",
      "data/text/nbc_santos.txt\n",
      "data/text/fox_balloon.txt\n"
     ]
    }
   ],
   "source": [
    "# how all the text files will be looped through\n",
    "\n",
    "directory = 'data/text/'\n",
    "for filename in os.listdir(directory):\n",
    "    filepath = str(os.path.join(directory, filename))\n",
    "    # use preprocessing functions\n",
    "    # somehow append each list of tokens (each article) to a dataframe\n",
    "    "
   ]
  },
  {
   "cell_type": "code",
   "execution_count": null,
   "metadata": {},
   "outputs": [],
   "source": [
    "# takes all docs and makes them into a dataframe\n",
    "# make sure that docs is just a list of all the tokens from all articles\n",
    "# first make one list of tokens for each article and then add all those lists up\n",
    "# mode is one of \"binary\", \"count\", \"tfidf\", \"freq\"\n",
    "tf.keras.preprocessing.text.Tokenizer(\n",
    "    num_words=None,\n",
    "    filters='!\"#$%&()*+,-./:;<=>?@[\\\\]^_`{|}~\\t\\n',\n",
    "    lower=True,\n",
    "    split=' ',\n",
    "    char_level=False,\n",
    "    oov_token=None,\n",
    "    analyzer=None,\n",
    "    **kwargs\n",
    ")\n",
    "\n",
    "Xtrain = tokenizer.texts_to_matrix(docs, mode='binary')\n",
    "print(Xtrain.shape)"
   ]
  }
 ],
 "metadata": {
  "kernelspec": {
   "display_name": "Python 3",
   "language": "python",
   "name": "python3"
  },
  "language_info": {
   "codemirror_mode": {
    "name": "ipython",
    "version": 3
   },
   "file_extension": ".py",
   "mimetype": "text/x-python",
   "name": "python",
   "nbconvert_exporter": "python",
   "pygments_lexer": "ipython3",
   "version": "3.9.18"
  }
 },
 "nbformat": 4,
 "nbformat_minor": 2
}
